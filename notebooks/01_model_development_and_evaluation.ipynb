{
  "cells": [
    {
      "cell_type": "markdown",
      "id": "b5e55555",
      "metadata": {
        "id": "b5e55555"
      },
      "source": [
        "# Heart Disease Prediction: A Deep Learning Workflow\n",
        "\n",
        "### **Project Overview**\n",
        "\n",
        "This notebook presents an end-to-end deep learning solution for predicting the presence of heart disease based on patient medical data. The core of this project is a robust, well-structured Python class that encapsulates the entire machine learning pipeline, from data ingestion to a saved, reusable model.\n",
        "\n",
        "**Key Features:**\n",
        "- **Architecture:** A feedforward neural network built with TensorFlow/Keras, featuring dense layers and dropout for regularization.\n",
        "- **Reproducibility:** A centralized `ModelConfig` dataclass to manage all hyperparameters, ensuring experiments are repeatable and easy to modify.\n",
        "- **Deployment-Ready:** The final trained model is saved in the native Keras (`.keras`) format, ready to be loaded into any application with TensorFlow installed.\n",
        "- **Best Practices:** Incorporates essential techniques like data scaling, stratified data splitting, early stopping, and model checkpointing.\n",
        "\n",
        "## Project Setup: Installing Dependencies\n",
        "\n",
        "This project requires a few standard Python libraries for data science and deep learning. The following cell will install them.\n",
        "\"\"\""
      ]
    },
    {
      "cell_type": "code",
      "execution_count": 1,
      "id": "iudSurqWxBaX",
      "metadata": {
        "id": "iudSurqWxBaX"
      },
      "outputs": [],
      "source": [
        "# ==============================================================================\n",
        "# 🎯 STANDARD SETUP CELL\n",
        "# ==============================================================================\n",
        "# This cell installs the necessary libraries for the project.\n",
        "# It will work with the default environment in Google Colab.\n",
        "# ==============================================================================\n",
        "# Use %%capture to hide installation output\n",
        "%%capture\n",
        "!pip install pandas numpy scikit-learn tensorflow seaborn matplotlib tqdm joblib\n",
        "\n",
        "print(\"✅ Environment successfully configured!\")\n",
        "\n",
        "\"\"\"\n",
        "Import necessary libraries for data manipulation, deep learning,\n",
        "and model evaluation.\n",
        "\"\"\"\n",
        "import numpy as np\n",
        "import pandas as pd\n",
        "import tensorflow as tf\n",
        "import joblib\n",
        "import os\n",
        "import matplotlib.pyplot as plt\n",
        "import seaborn as sns\n",
        "from pathlib import Path\n",
        "from typing import Tuple, Optional\n",
        "from dataclasses import dataclass\n",
        "\n",
        "from tensorflow.keras.models import Sequential, load_model\n",
        "from tensorflow.keras.layers import Dense, Dropout\n",
        "from tensorflow.keras.callbacks import ModelCheckpoint, EarlyStopping\n",
        "from sklearn.model_selection import train_test_split\n",
        "from sklearn.metrics import classification_report, confusion_matrix, roc_curve, auc, precision_score, recall_score, f1_score\n",
        "from sklearn.preprocessing import StandardScaler\n",
        "from tqdm.notebook import tqdm\n",
        "from tensorflow.keras.callbacks import Callback\n",
        "\n",
        "# Set a consistent style for plots\n",
        "sns.set_style(\"whitegrid\")\n",
        "plt.rcParams['figure.figsize'] = (10, 6)\n",
        "\n",
        "print(\"TensorFlow Version:\", tf.__version__)"
      ]
    },
    {
      "cell_type": "markdown",
      "id": "91599738",
      "metadata": {
        "id": "91599738"
      },
      "source": [
        "## Section 1: Centralized Configuration for Reproducibility\n",
        "\n",
        "To ensure our experiments are organized, reproducible, and easy to tune, we define all hyperparameters and file paths in a single `ModelConfig` dataclass. This approach prevents \"magic numbers\" from being scattered throughout the code and allows for simple modification of the entire model's behavior from one central location."
      ]
    },
    {
      "cell_type": "code",
      "execution_count": 2,
      "id": "2285f1f7",
      "metadata": {
        "id": "2285f1f7"
      },
      "outputs": [],
      "source": [
        "@dataclass\n",
        "class ModelConfig:\n",
        "    \"\"\"Configuration parameters for model training and architecture.\"\"\"\n",
        "\n",
        "    # Neural network layer sizes\n",
        "    layer_sizes: Tuple[int, ...] = (64, 32, 16)\n",
        "    dropout_rate: float = 0.3\n",
        "\n",
        "    # Training hyperparameters\n",
        "    epochs: int = 200\n",
        "    batch_size: int = 32\n",
        "    validation_split: float = 0.15\n",
        "    learning_rate: float = 0.001\n",
        "\n",
        "    # Data partitioning\n",
        "    test_size: float = 0.2\n",
        "    random_state: int = 42\n",
        "\n",
        "    # Model persistence\n",
        "    model_path: str = \"models/best_heart_disease_model.keras\"\n",
        "    scaler_path: str = \"models/scaler.pkl\"\n",
        "    prediction_threshold: float = 0.5"
      ]
    },
    {
      "cell_type": "markdown",
      "id": "9136cd46",
      "metadata": {
        "id": "9136cd46"
      },
      "source": [
        "## Section 2: The Core `HeartDiseasePredictor` Class\n",
        "\n",
        "We encapsulate the entire machine learning logic within a single, powerful class: `HeartDiseasePredictor`. This object-oriented approach promotes code organization, reusability, and clarity. The class manages every step of the process:\n",
        "\n",
        "1.  **Data Handling:** Loading and preprocessing the dataset.\n",
        "2.  **Model Construction:** Dynamically building the neural network based on the configuration.\n",
        "3.  **Training Loop:** Managing the training process with callbacks for optimal performance.\n",
        "4.  **Evaluation:** Assessing model performance on unseen test data.\n",
        "5.  **Inference:** Providing clean methods (`.predict()`, `.predict_proba()`) for making predictions on new data."
      ]
    },
    {
      "cell_type": "code",
      "source": [
        "class TQDMProgressBar(Callback):\n",
        "    \"\"\"A custom Keras callback for a clean, single-line training progress bar.\"\"\"\n",
        "    def on_train_begin(self, logs=None):\n",
        "        self.epochs = self.params['epochs']\n",
        "        self.pbar = tqdm(total=self.epochs, desc=\"Training\", unit=\"epoch\")\n",
        "\n",
        "    def on_epoch_end(self, epoch, logs=None):\n",
        "        logs = logs or {}\n",
        "        metrics = {k: f\"{v:.4f}\" for k, v in logs.items()}\n",
        "        self.pbar.set_postfix(metrics)\n",
        "        self.pbar.update(1)\n",
        "\n",
        "    def on_train_end(self, logs=None):\n",
        "        self.pbar.close()"
      ],
      "metadata": {
        "id": "q7U13dgIHZBb"
      },
      "id": "q7U13dgIHZBb",
      "execution_count": 3,
      "outputs": []
    },
    {
      "cell_type": "code",
      "execution_count": 20,
      "id": "41240153",
      "metadata": {
        "id": "41240153"
      },
      "outputs": [],
      "source": [
        "class HeartDiseasePredictor:\n",
        "    \"\"\"\n",
        "    A neural network classifier for heart disease prediction.\n",
        "\n",
        "    This class encapsulates the entire machine learning pipeline.\n",
        "    \"\"\"\n",
        "\n",
        "    def _initialize_device_strategy(self):\n",
        "        \"\"\"\n",
        "        Detects available hardware (TPU, GPU, CPU) and sets the appropriate\n",
        "        TensorFlow distribution strategy. This makes training device-aware.\n",
        "        \"\"\"\n",
        "        try:\n",
        "            # 1. Attempt to connect to a TPU cluster\n",
        "            tpu = tf.distribute.cluster_resolver.TPUClusterResolver()\n",
        "            tf.config.experimental_connect_to_cluster(tpu)\n",
        "            tf.tpu.experimental.initialize_tpu_system(tpu)\n",
        "            self.strategy = tf.distribute.TPUStrategy(tpu)\n",
        "            print(\"✅ TPU found! Training will be distributed across the TPU.\")\n",
        "            print('🚀 Running on TPU ', tpu.master())\n",
        "\n",
        "        except ValueError:\n",
        "            # 2. If no TPU, check for GPUs\n",
        "            gpus = tf.config.list_physical_devices('GPU')\n",
        "            if gpus:\n",
        "                # If GPUs are found, use MirroredStrategy for single or multi-GPU setups\n",
        "                self.strategy = tf.distribute.MirroredStrategy()\n",
        "                print(f\"✅ GPU(s) found! Training will be accelerated on {len(gpus)} GPU(s).\")\n",
        "                for i, gpu in enumerate(gpus):\n",
        "                    print(f'   -> GPU {i}: {gpu.name}')\n",
        "            else:\n",
        "                # 3. If no GPU, fall back to the default strategy (CPU)\n",
        "                self.strategy = tf.distribute.get_strategy()\n",
        "                print(\"⚠️ No TPU or GPU detected. Training will run on the CPU.\")\n",
        "                print(\"   For faster training, enable a GPU/TPU runtime in Colab.\")\n",
        "\n",
        "    def __init__(self, config: ModelConfig = ModelConfig()):\n",
        "        \"\"\"Initializes the predictor with a configuration object.\"\"\"\n",
        "        self.config = config\n",
        "        self.model = None\n",
        "        self.scaler = StandardScaler()\n",
        "        self.history = None\n",
        "        self.strategy = None  # Add this line to initialize the attribute\n",
        "        self._initialize_device_strategy() # Add this line to call the setup method\n",
        "\n",
        "    def load_data(self, filepath: str) -> pd.DataFrame:\n",
        "        \"\"\"Loads dataset from a CSV file.\"\"\"\n",
        "        data_path = Path(filepath)\n",
        "        if not data_path.exists():\n",
        "            raise FileNotFoundError(f\"Data file not found: {filepath}\")\n",
        "        df = pd.read_csv(data_path)\n",
        "        print(f\"✓ Loaded dataset: {df.shape[0]} samples, {df.shape[1]} features\")\n",
        "        return df\n",
        "\n",
        "    def prepare_data(self, df: pd.DataFrame) -> Tuple[np.ndarray, np.ndarray,\n",
        "                                                    np.ndarray, np.ndarray]:\n",
        "        \"\"\"\n",
        "        Splits and preprocesses data for training, ensuring consistency\n",
        "        with the features used by the Streamlit application.\n",
        "        \"\"\"\n",
        "        # Define the exact feature columns the Streamlit app uses\n",
        "        feature_columns = [\n",
        "            'age', 'gender', 'height', 'weight', 'ap_hi', 'ap_lo',\n",
        "            'cholesterol', 'gluc', 'smoke', 'alco', 'active'\n",
        "        ]\n",
        "\n",
        "        # Check if all required columns are in the dataframe\n",
        "        if not all(col in df.columns for col in feature_columns + ['target']):\n",
        "            raise ValueError(\n",
        "                \"The dataset is missing one of the required columns. \"\n",
        "                f\"Required: {feature_columns + ['target']}\"\n",
        "            )\n",
        "\n",
        "        print(\"✓ All required columns found in the dataset.\")\n",
        "\n",
        "        # Extract target variable (disease presence: 0 or 1)\n",
        "        y = df['target'].values\n",
        "\n",
        "        # Select ONLY the features that our Streamlit app will provide\n",
        "        X_raw = df[feature_columns]\n",
        "\n",
        "        # --- IMPORTANT: Feature Engineering ---\n",
        "        # The training script MUST perform the same feature engineering as the app.\n",
        "        # The Streamlit app does not have BMI, but the model might implicitly use it.\n",
        "        # The original Kaggle dataset for this problem often has BMI engineered.\n",
        "        # For simplicity and robustness, we will train on the 11 base features.\n",
        "        # If you were to add BMI, you would do it here AND in the Streamlit app.\n",
        "\n",
        "        X = X_raw.values\n",
        "\n",
        "        # Split data with stratification to maintain class balance\n",
        "        X_train, X_test, y_train, y_test = train_test_split(\n",
        "            X, y,\n",
        "            test_size=self.config.test_size,\n",
        "            random_state=self.config.random_state,\n",
        "            stratify=y  # Ensure proportional class distribution\n",
        "        )\n",
        "\n",
        "        # Normalize features: critical for neural network convergence\n",
        "        # Fit scaler on training data only to prevent data leakage\n",
        "        X_train = self.scaler.fit_transform(X_train)\n",
        "        X_test = self.scaler.transform(X_test)  # Use training statistics\n",
        "\n",
        "        # The scaler will now be correctly fitted on 11 features\n",
        "        print(f\"✓ Scaler fitted on {self.scaler.n_features_in_} features.\")\n",
        "        print(f\"✓ Data split: {X_train.shape[0]} train, {X_test.shape[0]} test samples\")\n",
        "        return X_train, X_test, y_train, y_test\n",
        "\n",
        "    def build_model(self, input_dim: int) -> tf.keras.Model:\n",
        "        \"\"\"\n",
        "        Constructs the Keras model architecture using the Functional API\n",
        "        for maximum compatibility with conversion tools like tf2onnx.\n",
        "        \"\"\"\n",
        "        # 1. Define the input layer. This is the entry point to the model graph.\n",
        "        inputs = tf.keras.layers.Input(shape=(input_dim,), name='input_layer')\n",
        "\n",
        "        # 2. Stack layers by calling them on the previous layer's output tensor.\n",
        "        # The first hidden layer connects to the input tensor.\n",
        "        x = Dense(self.config.layer_sizes[0], activation='relu', name='hidden_1')(inputs)\n",
        "        x = Dropout(self.config.dropout_rate)(x)\n",
        "\n",
        "        # Subsequent hidden layers connect to the output of the previous layer.\n",
        "        x = Dense(self.config.layer_sizes[1], activation='relu', name='hidden_2')(x)\n",
        "        x = Dropout(self.config.dropout_rate)(x)\n",
        "\n",
        "        x = Dense(self.config.layer_sizes[2], activation='relu', name='hidden_3')(x)\n",
        "        x = Dropout(self.config.dropout_rate)(x)\n",
        "\n",
        "        # 3. Define the final output layer.\n",
        "        outputs = Dense(1, activation='sigmoid', name='output')(x)\n",
        "\n",
        "        # 4. Create the final Model object by specifying its inputs and outputs.\n",
        "        # This creates a model with a clear, explicit graph structure.\n",
        "        model = tf.keras.Model(inputs=inputs, outputs=outputs, name=\"HeartDiseaseClassifier\")\n",
        "\n",
        "        # The compilation step remains exactly the same.\n",
        "        model.compile(\n",
        "            loss='binary_crossentropy',\n",
        "            optimizer=tf.keras.optimizers.Adam(learning_rate=self.config.learning_rate),\n",
        "            metrics=['accuracy', tf.keras.metrics.AUC(name='auc')]\n",
        "        )\n",
        "        print(\"✓ Model architecture built (Functional API)\")\n",
        "        model.summary()\n",
        "        return model\n",
        "\n",
        "    def train(self, X_train: np.ndarray, y_train: np.ndarray) -> None:\n",
        "            \"\"\"Trains the model with callbacks.\"\"\"\n",
        "            # --- FIX IS HERE ---\n",
        "            # Use the correct attribute 'model_path' instead of 'model_path_keras'\n",
        "            model_dir = Path(self.config.model_path).parent\n",
        "            model_dir.mkdir(parents=True, exist_ok=True)\n",
        "\n",
        "            callbacks = [\n",
        "                ModelCheckpoint(\n",
        "                    # --- AND FIX IS HERE ---\n",
        "                    self.config.model_path, # Use the correct attribute name\n",
        "                    monitor='val_accuracy',\n",
        "                    mode='max',\n",
        "                    save_best_only=True,\n",
        "                    verbose=0\n",
        "                ),\n",
        "                EarlyStopping(monitor='val_loss', patience=50, restore_best_weights=True),\n",
        "                TQDMProgressBar()\n",
        "            ]\n",
        "\n",
        "            self.model = self.build_model(X_train.shape[1])\n",
        "            self.history = self.model.fit(\n",
        "                X_train, y_train,\n",
        "                epochs=self.config.epochs,\n",
        "                batch_size=self.config.batch_size,\n",
        "                validation_split=self.config.validation_split,\n",
        "                callbacks=callbacks,\n",
        "                verbose=0\n",
        "            )\n",
        "\n",
        "            print(\"✓ Training complete\")\n",
        "            self._save_scaler()\n",
        "\n",
        "    def _save_scaler(self) -> None:\n",
        "        \"\"\"Saves the fitted StandardScaler to disk.\"\"\"\n",
        "        joblib.dump(self.scaler, self.config.scaler_path)\n",
        "        print(f\"✓ Scaler saved to: {self.config.scaler_path}\")\n",
        "\n",
        "    def load_trained_model(self) -> None:\n",
        "        \"\"\"Loads a pre-trained Keras model and scaler for inference.\"\"\"\n",
        "        # Use the correct attribute 'model_path' for the Keras model\n",
        "        model_p = Path(self.config.model_path)\n",
        "        scaler_p = Path(self.config.scaler_path)\n",
        "\n",
        "        if not model_p.exists() or not scaler_p.exists():\n",
        "            # Updated error message for clarity\n",
        "            raise FileNotFoundError(\"Ensure both the Keras model (.keras) and scaler (.pkl) files exist before loading.\")\n",
        "\n",
        "        # --- AND FIX IS HERE ---\n",
        "        # Load the Keras model directly, remove the call to the old ONNX loader\n",
        "        self.model = load_model(model_p)\n",
        "        self.scaler = joblib.load(scaler_p)\n",
        "        print(\"✓ Trained Keras model and scaler loaded successfully\")\n",
        "\n",
        "\n",
        "\n",
        "\n",
        "    def evaluate(self, X_test: np.ndarray, y_test: np.ndarray) -> dict:\n",
        "        \"\"\"\n",
        "        Evaluates the model on test data, providing a comprehensive report\n",
        "        with key classification metrics and visualizations.\n",
        "        \"\"\"\n",
        "        if self.model is None:\n",
        "            self.model = load_model(self.config.model_path)\n",
        "\n",
        "        # Get model predictions and probabilities\n",
        "        probabilities = self.model.predict(X_test)\n",
        "        predictions = (probabilities > self.config.prediction_threshold).astype(int).flatten()\n",
        "\n",
        "        # --- Calculate Core Metrics ---\n",
        "        test_accuracy = np.mean(predictions == y_test)\n",
        "        test_precision = precision_score(y_test, predictions)\n",
        "        test_recall = recall_score(y_test, predictions)\n",
        "        test_f1 = f1_score(y_test, predictions)\n",
        "\n",
        "        # Calculate ROC Curve and AUC\n",
        "        fpr, tpr, _ = roc_curve(y_test, probabilities)\n",
        "        roc_auc = auc(fpr, tpr)\n",
        "\n",
        "        # --- Print Comprehensive Report ---\n",
        "        print(\"\\n\" + \"=\"*60)\n",
        "        print(\"      COMPREHENSIVE MODEL EVALUATION (TEST SET)\")\n",
        "        print(\"=\"*60)\n",
        "        print(f\"-> Test Accuracy:   {test_accuracy:.4f}\")\n",
        "        print(f\"-> Test Precision:  {test_precision:.4f} (Disease class)\")\n",
        "        print(f\"-> Test Recall:     {test_recall:.4f} (Disease class)\")\n",
        "        print(f\"-> Test F1-Score:   {test_f1:.4f} (Disease class)\")\n",
        "        print(f\"-> Test AUC Score:  {roc_auc:.4f}\")\n",
        "        print(\"-\" * 60)\n",
        "        print(\"\\nClassification Report:\")\n",
        "        print(classification_report(y_test, predictions, target_names=['No Disease', 'Disease']))\n",
        "        print(\"=\"*60)\n",
        "\n",
        "        # --- Generate Visualizations ---\n",
        "        plt.figure(figsize=(18, 7))\n",
        "\n",
        "        # 1. Confusion Matrix\n",
        "        plt.subplot(1, 2, 1)\n",
        "        cm = confusion_matrix(y_test, predictions)\n",
        "        sns.heatmap(cm, annot=True, fmt='d', cmap='Blues',\n",
        "                    xticklabels=['No Disease', 'Disease'], yticklabels=['No Disease', 'Disease'])\n",
        "        plt.title('Confusion Matrix', fontsize=16)\n",
        "        plt.ylabel('Actual Label')\n",
        "        plt.xlabel('Predicted Label')\n",
        "\n",
        "        # 2. ROC Curve\n",
        "        plt.subplot(1, 2, 2)\n",
        "        plt.plot(fpr, tpr, color='darkorange', lw=2, label=f'ROC curve (AUC = {roc_auc:.2f})')\n",
        "        plt.plot([0, 1], [0, 1], color='navy', lw=2, linestyle='--', label='Chance')\n",
        "        plt.xlim([0.0, 1.0])\n",
        "        plt.ylim([0.0, 1.05])\n",
        "        plt.xlabel('False Positive Rate')\n",
        "        plt.ylabel('True Positive Rate')\n",
        "        plt.title('Receiver Operating Characteristic (ROC) Curve', fontsize=16)\n",
        "        plt.legend(loc=\"lower right\")\n",
        "\n",
        "        plt.tight_layout()\n",
        "        plt.show()\n",
        "\n",
        "        # Return a dictionary of all calculated metrics\n",
        "        return {\n",
        "            'accuracy': test_accuracy,\n",
        "            'precision': test_precision,\n",
        "            'recall': test_recall,\n",
        "            'f1_score': test_f1,\n",
        "            'auc': roc_auc\n",
        "        }\n",
        "\n",
        "\n",
        "    def predict(self, X: np.ndarray) -> np.ndarray:\n",
        "      \"\"\"Generates binary predictions for new data using the Keras model.\"\"\"\n",
        "      if self.model is None:\n",
        "          raise ValueError(\"Model not loaded. Call train() or load_trained_model() first.\")\n",
        "\n",
        "      # Scale the input data using the loaded scaler\n",
        "      X_scaled = self.scaler.transform(X)\n",
        "\n",
        "      # --- FIX IS HERE ---\n",
        "      # Use the standard Keras model.predict() method\n",
        "      probabilities = self.model.predict(X_scaled)\n",
        "\n",
        "      # Convert probabilities to binary predictions (0 or 1)\n",
        "      predictions = (probabilities > self.config.prediction_threshold).astype(int)\n",
        "\n",
        "      return predictions"
      ]
    },
    {
      "cell_type": "markdown",
      "id": "781234ac",
      "metadata": {
        "id": "781234ac"
      },
      "source": [
        "## Section 3: The Main Execution Pipeline (Optional)\n",
        "\n",
        "Now, we will instantiate our `HeartDiseasePredictor` and execute the full workflow. This section simulates a real-world project, moving from raw data to a fully evaluated, deployment-ready artifact.\n",
        "\n",
        "### Step 3.1: Create a Dummy Dataset\n",
        "\n",
        "For this notebook to be fully self-contained and reproducible, we will first create the `data/heart.csv` file. In a real scenario, this file would already exist."
      ]
    },
    {
      "cell_type": "code",
      "execution_count": 11,
      "id": "f851864a",
      "metadata": {
        "colab": {
          "base_uri": "https://localhost:8080/"
        },
        "id": "f851864a",
        "outputId": "c4d813a3-98e4-45a9-ae18-22b804c826d1"
      },
      "outputs": [
        {
          "output_type": "stream",
          "name": "stdout",
          "text": [
            "✅ Found existing dataset at: 'data/heart.csv'\n"
          ]
        }
      ],
      "source": [
        "# Define paths\n",
        "data_dir = Path(\"data\")\n",
        "model_dir = Path(\"models\")\n",
        "data_file = data_dir / \"heart.csv\"\n",
        "\n",
        "# Ensure directories exist\n",
        "model_dir.mkdir(parents=True, exist_ok=True)\n",
        "data_dir.mkdir(parents=True, exist_ok=True)\n",
        "\n",
        "# Create a dummy CSV if it doesn't exist\n",
        "if not data_file.is_file():\n",
        "    print(f\"⚠️ Dataset not found. Creating a dummy 'heart.csv' file.\")\n",
        "    csv_data = \"\"\"age,sex,cp,trestbps,chol,fbs,restecg,thalach,exang,oldpeak,slope,ca,thal,target,gender,height,weight,ap_hi,ap_lo,cholesterol,gluc,smoke,alco,active\n",
        "63,1,3,145,233,1,0,150,0,2.3,0,0,1,1,1,170,70,140,90,1,1,0,0,1\n",
        "37,1,2,130,250,0,1,187,0,3.5,0,0,2,1,1,180,85,130,80,2,1,0,0,1\n",
        "41,0,1,130,204,0,0,172,0,1.4,2,0,2,1,0,165,65,120,70,1,1,0,0,1\n",
        "56,1,1,120,236,0,1,178,0,0.8,2,0,2,1,1,175,75,120,80,1,1,0,0,1\n",
        "57,0,0,120,354,0,1,163,1,0.6,2,0,2,1,0,160,60,120,80,3,1,0,0,1\n",
        "57,1,0,140,192,0,1,148,0,0.4,1,0,1,1,1,168,68,140,90,1,1,1,0,1\n",
        "56,0,1,140,294,0,0,153,0,1.3,1,0,2,1,0,163,63,130,85,2,2,0,0,1\n",
        "44,1,1,120,263,0,1,173,0,0.0,2,0,3,1,1,178,80,110,75,1,1,0,0,0\n",
        "52,1,2,172,199,1,1,162,0,0.5,2,0,3,1,1,172,72,160,100,1,1,0,0,1\n",
        "57,1,2,150,168,0,1,174,0,1.6,2,0,2,1,1,177,78,150,90,1,1,1,1,1\n",
        "55,0,1,132,342,0,1,166,0,1.2,2,0,2,0,0,161,61,130,80,2,1,0,0,1\n",
        "45,1,0,104,208,0,0,148,1,3.0,1,0,2,0,1,182,88,100,70,1,1,1,0,0\n",
        "\"\"\"\n",
        "    with open(data_file, \"w\") as f:\n",
        "        f.write(csv_data)\n",
        "    print(f\"✓ Dummy dataset created at '{data_file}'.\")\n",
        "else:\n",
        "    print(f\"✅ Found existing dataset at: '{data_file}'\")\n"
      ]
    },
    {
      "cell_type": "markdown",
      "id": "75e23754",
      "metadata": {
        "id": "75e23754"
      },
      "source": [
        "### Step 3.2: Initialize and Run the Pipeline\n",
        "\n",
        "Here, we create an instance of our `ModelConfig` and pass it to the `HeartDiseasePredictor`. Then, we execute the core methods in sequence."
      ]
    },
    {
      "cell_type": "code",
      "execution_count": 12,
      "id": "632dc9e5",
      "metadata": {
        "colab": {
          "base_uri": "https://localhost:8080/",
          "height": 608,
          "referenced_widgets": [
            "961cf032d35f4ee2b191fd8410dcf845",
            "5360b811624f43e4a38c7b552eaebbb7",
            "800bbfabf754476abddd37a6e3247db0",
            "9a5e86c7b2b34d68aca4dfa0fc36a998",
            "c0b3c814872c4fd7af89ec870bb0901e",
            "60d1e9504ade43d08d4e783d30d4162f",
            "b7b63aeff9b84b479ac4bd1307f69a55",
            "8a57567b75ff4793b72cd33ef0e40ccd",
            "70ecc4f871424410b7a8afbc13282a96",
            "c6b6c519e18143eca251671c4c4d84b8",
            "be6a5998b827488891e5e9a8c64b04a4"
          ]
        },
        "id": "632dc9e5",
        "outputId": "e73750cc-bf9d-491c-ec1b-966db7b707bf"
      },
      "outputs": [
        {
          "output_type": "stream",
          "name": "stdout",
          "text": [
            "⚠️ No TPU or GPU detected. Training will run on the CPU.\n",
            "   For faster training, enable a GPU/TPU runtime in Colab.\n",
            "✓ Loaded dataset: 70000 samples, 13 features\n",
            "✓ All required columns found in the dataset.\n",
            "✓ Scaler fitted on 11 features.\n",
            "✓ Data split: 56000 train, 14000 test samples\n",
            "✓ Model architecture built (Functional API)\n"
          ]
        },
        {
          "output_type": "display_data",
          "data": {
            "text/plain": [
              "\u001b[1mModel: \"HeartDiseaseClassifier\"\u001b[0m\n"
            ],
            "text/html": [
              "<pre style=\"white-space:pre;overflow-x:auto;line-height:normal;font-family:Menlo,'DejaVu Sans Mono',consolas,'Courier New',monospace\"><span style=\"font-weight: bold\">Model: \"HeartDiseaseClassifier\"</span>\n",
              "</pre>\n"
            ]
          },
          "metadata": {}
        },
        {
          "output_type": "display_data",
          "data": {
            "text/plain": [
              "┏━━━━━━━━━━━━━━━━━━━━━━━━━━━━━━━━━┳━━━━━━━━━━━━━━━━━━━━━━━━┳━━━━━━━━━━━━━━━┓\n",
              "┃\u001b[1m \u001b[0m\u001b[1mLayer (type)                   \u001b[0m\u001b[1m \u001b[0m┃\u001b[1m \u001b[0m\u001b[1mOutput Shape          \u001b[0m\u001b[1m \u001b[0m┃\u001b[1m \u001b[0m\u001b[1m      Param #\u001b[0m\u001b[1m \u001b[0m┃\n",
              "┡━━━━━━━━━━━━━━━━━━━━━━━━━━━━━━━━━╇━━━━━━━━━━━━━━━━━━━━━━━━╇━━━━━━━━━━━━━━━┩\n",
              "│ input_layer (\u001b[38;5;33mInputLayer\u001b[0m)        │ (\u001b[38;5;45mNone\u001b[0m, \u001b[38;5;34m11\u001b[0m)             │             \u001b[38;5;34m0\u001b[0m │\n",
              "├─────────────────────────────────┼────────────────────────┼───────────────┤\n",
              "│ hidden_1 (\u001b[38;5;33mDense\u001b[0m)                │ (\u001b[38;5;45mNone\u001b[0m, \u001b[38;5;34m128\u001b[0m)            │         \u001b[38;5;34m1,536\u001b[0m │\n",
              "├─────────────────────────────────┼────────────────────────┼───────────────┤\n",
              "│ dropout_6 (\u001b[38;5;33mDropout\u001b[0m)             │ (\u001b[38;5;45mNone\u001b[0m, \u001b[38;5;34m128\u001b[0m)            │             \u001b[38;5;34m0\u001b[0m │\n",
              "├─────────────────────────────────┼────────────────────────┼───────────────┤\n",
              "│ hidden_2 (\u001b[38;5;33mDense\u001b[0m)                │ (\u001b[38;5;45mNone\u001b[0m, \u001b[38;5;34m64\u001b[0m)             │         \u001b[38;5;34m8,256\u001b[0m │\n",
              "├─────────────────────────────────┼────────────────────────┼───────────────┤\n",
              "│ dropout_7 (\u001b[38;5;33mDropout\u001b[0m)             │ (\u001b[38;5;45mNone\u001b[0m, \u001b[38;5;34m64\u001b[0m)             │             \u001b[38;5;34m0\u001b[0m │\n",
              "├─────────────────────────────────┼────────────────────────┼───────────────┤\n",
              "│ hidden_3 (\u001b[38;5;33mDense\u001b[0m)                │ (\u001b[38;5;45mNone\u001b[0m, \u001b[38;5;34m32\u001b[0m)             │         \u001b[38;5;34m2,080\u001b[0m │\n",
              "├─────────────────────────────────┼────────────────────────┼───────────────┤\n",
              "│ dropout_8 (\u001b[38;5;33mDropout\u001b[0m)             │ (\u001b[38;5;45mNone\u001b[0m, \u001b[38;5;34m32\u001b[0m)             │             \u001b[38;5;34m0\u001b[0m │\n",
              "├─────────────────────────────────┼────────────────────────┼───────────────┤\n",
              "│ output (\u001b[38;5;33mDense\u001b[0m)                  │ (\u001b[38;5;45mNone\u001b[0m, \u001b[38;5;34m1\u001b[0m)              │            \u001b[38;5;34m33\u001b[0m │\n",
              "└─────────────────────────────────┴────────────────────────┴───────────────┘\n"
            ],
            "text/html": [
              "<pre style=\"white-space:pre;overflow-x:auto;line-height:normal;font-family:Menlo,'DejaVu Sans Mono',consolas,'Courier New',monospace\">┏━━━━━━━━━━━━━━━━━━━━━━━━━━━━━━━━━┳━━━━━━━━━━━━━━━━━━━━━━━━┳━━━━━━━━━━━━━━━┓\n",
              "┃<span style=\"font-weight: bold\"> Layer (type)                    </span>┃<span style=\"font-weight: bold\"> Output Shape           </span>┃<span style=\"font-weight: bold\">       Param # </span>┃\n",
              "┡━━━━━━━━━━━━━━━━━━━━━━━━━━━━━━━━━╇━━━━━━━━━━━━━━━━━━━━━━━━╇━━━━━━━━━━━━━━━┩\n",
              "│ input_layer (<span style=\"color: #0087ff; text-decoration-color: #0087ff\">InputLayer</span>)        │ (<span style=\"color: #00d7ff; text-decoration-color: #00d7ff\">None</span>, <span style=\"color: #00af00; text-decoration-color: #00af00\">11</span>)             │             <span style=\"color: #00af00; text-decoration-color: #00af00\">0</span> │\n",
              "├─────────────────────────────────┼────────────────────────┼───────────────┤\n",
              "│ hidden_1 (<span style=\"color: #0087ff; text-decoration-color: #0087ff\">Dense</span>)                │ (<span style=\"color: #00d7ff; text-decoration-color: #00d7ff\">None</span>, <span style=\"color: #00af00; text-decoration-color: #00af00\">128</span>)            │         <span style=\"color: #00af00; text-decoration-color: #00af00\">1,536</span> │\n",
              "├─────────────────────────────────┼────────────────────────┼───────────────┤\n",
              "│ dropout_6 (<span style=\"color: #0087ff; text-decoration-color: #0087ff\">Dropout</span>)             │ (<span style=\"color: #00d7ff; text-decoration-color: #00d7ff\">None</span>, <span style=\"color: #00af00; text-decoration-color: #00af00\">128</span>)            │             <span style=\"color: #00af00; text-decoration-color: #00af00\">0</span> │\n",
              "├─────────────────────────────────┼────────────────────────┼───────────────┤\n",
              "│ hidden_2 (<span style=\"color: #0087ff; text-decoration-color: #0087ff\">Dense</span>)                │ (<span style=\"color: #00d7ff; text-decoration-color: #00d7ff\">None</span>, <span style=\"color: #00af00; text-decoration-color: #00af00\">64</span>)             │         <span style=\"color: #00af00; text-decoration-color: #00af00\">8,256</span> │\n",
              "├─────────────────────────────────┼────────────────────────┼───────────────┤\n",
              "│ dropout_7 (<span style=\"color: #0087ff; text-decoration-color: #0087ff\">Dropout</span>)             │ (<span style=\"color: #00d7ff; text-decoration-color: #00d7ff\">None</span>, <span style=\"color: #00af00; text-decoration-color: #00af00\">64</span>)             │             <span style=\"color: #00af00; text-decoration-color: #00af00\">0</span> │\n",
              "├─────────────────────────────────┼────────────────────────┼───────────────┤\n",
              "│ hidden_3 (<span style=\"color: #0087ff; text-decoration-color: #0087ff\">Dense</span>)                │ (<span style=\"color: #00d7ff; text-decoration-color: #00d7ff\">None</span>, <span style=\"color: #00af00; text-decoration-color: #00af00\">32</span>)             │         <span style=\"color: #00af00; text-decoration-color: #00af00\">2,080</span> │\n",
              "├─────────────────────────────────┼────────────────────────┼───────────────┤\n",
              "│ dropout_8 (<span style=\"color: #0087ff; text-decoration-color: #0087ff\">Dropout</span>)             │ (<span style=\"color: #00d7ff; text-decoration-color: #00d7ff\">None</span>, <span style=\"color: #00af00; text-decoration-color: #00af00\">32</span>)             │             <span style=\"color: #00af00; text-decoration-color: #00af00\">0</span> │\n",
              "├─────────────────────────────────┼────────────────────────┼───────────────┤\n",
              "│ output (<span style=\"color: #0087ff; text-decoration-color: #0087ff\">Dense</span>)                  │ (<span style=\"color: #00d7ff; text-decoration-color: #00d7ff\">None</span>, <span style=\"color: #00af00; text-decoration-color: #00af00\">1</span>)              │            <span style=\"color: #00af00; text-decoration-color: #00af00\">33</span> │\n",
              "└─────────────────────────────────┴────────────────────────┴───────────────┘\n",
              "</pre>\n"
            ]
          },
          "metadata": {}
        },
        {
          "output_type": "display_data",
          "data": {
            "text/plain": [
              "\u001b[1m Total params: \u001b[0m\u001b[38;5;34m11,905\u001b[0m (46.50 KB)\n"
            ],
            "text/html": [
              "<pre style=\"white-space:pre;overflow-x:auto;line-height:normal;font-family:Menlo,'DejaVu Sans Mono',consolas,'Courier New',monospace\"><span style=\"font-weight: bold\"> Total params: </span><span style=\"color: #00af00; text-decoration-color: #00af00\">11,905</span> (46.50 KB)\n",
              "</pre>\n"
            ]
          },
          "metadata": {}
        },
        {
          "output_type": "display_data",
          "data": {
            "text/plain": [
              "\u001b[1m Trainable params: \u001b[0m\u001b[38;5;34m11,905\u001b[0m (46.50 KB)\n"
            ],
            "text/html": [
              "<pre style=\"white-space:pre;overflow-x:auto;line-height:normal;font-family:Menlo,'DejaVu Sans Mono',consolas,'Courier New',monospace\"><span style=\"font-weight: bold\"> Trainable params: </span><span style=\"color: #00af00; text-decoration-color: #00af00\">11,905</span> (46.50 KB)\n",
              "</pre>\n"
            ]
          },
          "metadata": {}
        },
        {
          "output_type": "display_data",
          "data": {
            "text/plain": [
              "\u001b[1m Non-trainable params: \u001b[0m\u001b[38;5;34m0\u001b[0m (0.00 B)\n"
            ],
            "text/html": [
              "<pre style=\"white-space:pre;overflow-x:auto;line-height:normal;font-family:Menlo,'DejaVu Sans Mono',consolas,'Courier New',monospace\"><span style=\"font-weight: bold\"> Non-trainable params: </span><span style=\"color: #00af00; text-decoration-color: #00af00\">0</span> (0.00 B)\n",
              "</pre>\n"
            ]
          },
          "metadata": {}
        },
        {
          "output_type": "display_data",
          "data": {
            "text/plain": [
              "Training:   0%|          | 0/150 [00:00<?, ?epoch/s]"
            ],
            "application/vnd.jupyter.widget-view+json": {
              "version_major": 2,
              "version_minor": 0,
              "model_id": "961cf032d35f4ee2b191fd8410dcf845"
            }
          },
          "metadata": {}
        },
        {
          "output_type": "stream",
          "name": "stdout",
          "text": [
            "✓ Training complete\n",
            "✓ Scaler saved to: models/scaler.pkl\n"
          ]
        }
      ],
      "source": [
        "\n",
        "# 1. Initialize configuration and the predictor\n",
        "config = ModelConfig(\n",
        "    layer_sizes=(128, 64, 32),\n",
        "    dropout_rate=0.4,\n",
        "    epochs=150,\n",
        "    learning_rate=0.0005\n",
        ")\n",
        "predictor = HeartDiseasePredictor(config)\n",
        "\n",
        "# 2. Load and prepare the data\n",
        "df = predictor.load_data(str(data_file))\n",
        "X_train, X_test, y_train, y_test = predictor.prepare_data(df)\n",
        "\n",
        "# 3. Train the model\n",
        "predictor.train(X_train, y_train)\n"
      ]
    },
    {
      "cell_type": "markdown",
      "id": "546acd74",
      "metadata": {
        "id": "546acd74"
      },
      "source": [
        "### Step 3.3: Analyze Training History\n",
        "\n",
        "Visualizing the training and validation metrics over epochs is crucial for diagnosing issues like overfitting or underfitting. A healthy training process shows both training and validation loss decreasing and converging."
      ]
    },
    {
      "cell_type": "code",
      "execution_count": 13,
      "id": "d161d0b3",
      "metadata": {
        "id": "d161d0b3",
        "colab": {
          "base_uri": "https://localhost:8080/",
          "height": 449
        },
        "outputId": "b2b2328a-dd9d-4e4b-acf8-de305f1e9b0e"
      },
      "outputs": [
        {
          "output_type": "stream",
          "name": "stdout",
          "text": [
            "\n",
            "==================================================\n",
            "      FINAL TRAINING & VALIDATION METRICS\n",
            "==================================================\n",
            "Final Training Accuracy:   0.7374\n",
            "Final Validation Accuracy: 0.7396\n",
            "--------------------------------------------------\n",
            "Final Training AUC:        0.8020\n",
            "Final Validation AUC:      0.8050\n",
            "==================================================\n",
            "\n"
          ]
        },
        {
          "output_type": "display_data",
          "data": {
            "text/plain": [
              "<Figure size 1400x500 with 2 Axes>"
            ],
            "image/png": "[encoded data removed]"
          },
          "metadata": {}
        }
      ],
      "source": [
        "print(\"\\n\" + \"=\"*50)\n",
        "print(\"      FINAL TRAINING & VALIDATION METRICS\")\n",
        "print(\"=\"*50)\n",
        "\n",
        "# The EarlyStopping callback restores the best model weights, so these\n",
        "# metrics correspond to the epoch with the best validation loss.\n",
        "history_data = predictor.history.history\n",
        "\n",
        "# Get the last recorded values from the training history\n",
        "final_train_accuracy = history_data['accuracy'][-1]\n",
        "final_val_accuracy = history_data['val_accuracy'][-1]\n",
        "final_train_auc = history_data['auc'][-1]\n",
        "final_val_auc = history_data['val_auc'][-1]\n",
        "\n",
        "print(f\"Final Training Accuracy:   {final_train_accuracy:.4f}\")\n",
        "print(f\"Final Validation Accuracy: {final_val_accuracy:.4f}\")\n",
        "print(\"-\" * 50)\n",
        "print(f\"Final Training AUC:        {final_train_auc:.4f}\")\n",
        "print(f\"Final Validation AUC:      {final_val_auc:.4f}\")\n",
        "print(\"=\"*50 + \"\\n\")\n",
        "\n",
        "\n",
        "\n",
        "# Plot training & validation accuracy and loss\n",
        "history_df = pd.DataFrame(predictor.history.history)\n",
        "plt.figure(figsize=(14, 5))\n",
        "\n",
        "# Plot Accuracy\n",
        "plt.subplot(1, 2, 1)\n",
        "plt.plot(history_df['accuracy'], label='Train Accuracy', color='blue')\n",
        "plt.plot(history_df['val_accuracy'], label='Validation Accuracy', color='orange')\n",
        "plt.title('Model Accuracy over Epochs', fontsize=16)\n",
        "plt.xlabel('Epochs')\n",
        "plt.ylabel('Accuracy')\n",
        "plt.legend()\n",
        "\n",
        "# Plot Loss\n",
        "plt.subplot(1, 2, 2)\n",
        "plt.plot(history_df['loss'], label='Train Loss', color='blue')\n",
        "plt.plot(history_df['val_loss'], label='Validation Loss', color='orange')\n",
        "plt.title('Model Loss over Epochs', fontsize=16)\n",
        "plt.xlabel('Epochs')\n",
        "plt.ylabel('Loss')\n",
        "plt.legend()\n",
        "\n",
        "plt.tight_layout()\n",
        "plt.show()"
      ]
    },
    {
      "cell_type": "markdown",
      "id": "9f6b064d",
      "metadata": {
        "id": "9f6b064d"
      },
      "source": [
        "### Step 3.4: Evaluate Final Model Performance\n",
        "\n",
        "With the model trained, we now perform a final evaluation on the held-out test set. **Crucially, this evaluation uses the ONNX model via the ONNX Runtime**, simulating how the model would perform in a real production environment. The classification report and confusion matrix provide a detailed breakdown of its predictive power."
      ]
    },
    {
      "cell_type": "code",
      "execution_count": 14,
      "id": "b9c4a162",
      "metadata": {
        "id": "b9c4a162",
        "colab": {
          "base_uri": "https://localhost:8080/",
          "height": 766
        },
        "outputId": "6d9e9829-6efe-4155-f040-a21bfda608fe"
      },
      "outputs": [
        {
          "output_type": "stream",
          "name": "stdout",
          "text": [
            "\u001b[1m438/438\u001b[0m \u001b[32m━━━━━━━━━━━━━━━━━━━━\u001b[0m\u001b[37m\u001b[0m \u001b[1m0s\u001b[0m 532us/step\n",
            "\n",
            "============================================================\n",
            "      COMPREHENSIVE MODEL EVALUATION (TEST SET)\n",
            "============================================================\n",
            "-> Test Accuracy:   0.7328\n",
            "-> Test Precision:  0.7409 (Disease class)\n",
            "-> Test Recall:     0.7154 (Disease class)\n",
            "-> Test F1-Score:   0.7279 (Disease class)\n",
            "-> Test AUC Score:  0.7998\n",
            "------------------------------------------------------------\n",
            "\n",
            "Classification Report:\n",
            "              precision    recall  f1-score   support\n",
            "\n",
            "  No Disease       0.73      0.75      0.74      7004\n",
            "     Disease       0.74      0.72      0.73      6996\n",
            "\n",
            "    accuracy                           0.73     14000\n",
            "   macro avg       0.73      0.73      0.73     14000\n",
            "weighted avg       0.73      0.73      0.73     14000\n",
            "\n",
            "============================================================\n"
          ]
        },
        {
          "output_type": "display_data",
          "data": {
            "text/plain": [
              "<Figure size 1800x700 with 3 Axes>"
            ],
            "image/png": "[encoded data removed]"
          },
          "metadata": {}
        },
        {
          "output_type": "execute_result",
          "data": {
            "text/plain": [
              "{'accuracy': np.float64(0.7327857142857143),\n",
              " 'precision': 0.7409326424870466,\n",
              " 'recall': 0.7154088050314465,\n",
              " 'f1_score': 0.727947058395753,\n",
              " 'auc': np.float64(0.7997800060506142)}"
            ]
          },
          "metadata": {},
          "execution_count": 14
        }
      ],
      "source": [
        "predictor.evaluate(X_test, y_test)\n"
      ]
    },
    {
      "cell_type": "markdown",
      "id": "5071cf32",
      "metadata": {
        "id": "5071cf32"
      },
      "source": [
        "### Step 3.5: Deployment Simulation - Loading and Inference\n",
        "\n",
        "The final and most critical step is to demonstrate that our saved artifacts (`heart_disease_model.onnx` and `scaler.pkl`) can be loaded independently to make new predictions. This confirms our model is truly portable and ready for deployment."
      ]
    },
    {
      "cell_type": "code",
      "source": [
        "print(\"\\n\" + \"=\"*50)\n",
        "print(\"      DEPLOYMENT AND INFERENCE SIMULATION\")\n",
        "print(\"=\"*50)\n",
        "\n",
        "# 1. Create a new predictor instance to simulate a new environment\n",
        "inference_predictor = HeartDiseasePredictor(config)\n",
        "\n",
        "# 2. Load the pre-trained Keras model and scaler from disk\n",
        "inference_predictor.load_trained_model()\n",
        "\n",
        "# 3. Take the first 5 samples from the test set as if they were new data\n",
        "new_samples = X_test[:5]\n",
        "actual_labels = y_test[:5]\n",
        "\n",
        "# 4. Make predictions\n",
        "predictions = inference_predictor.predict(new_samples)\n",
        "\n",
        "print(\"\\nMaking predictions on 5 new samples:\")\n",
        "for i, (pred, actual) in enumerate(zip(predictions.flatten(), actual_labels)):\n",
        "    pred_label = \"Disease\" if pred == 1 else \"No Disease\"\n",
        "    actual_label = \"Disease\" if actual == 1 else \"No Disease\"\n",
        "    print(f\"  Sample {i+1}: Predicted='{pred_label}', Actual='{actual_label}'\")\n",
        "\n",
        "print(\"\\n✓ Inference test complete.\")\n"
      ],
      "metadata": {
        "colab": {
          "base_uri": "https://localhost:8080/"
        },
        "id": "fV_oeud6IR3Y",
        "outputId": "60693e00-3f28-4bcd-af18-60b2c92fd5ca"
      },
      "id": "fV_oeud6IR3Y",
      "execution_count": 21,
      "outputs": [
        {
          "output_type": "stream",
          "name": "stdout",
          "text": [
            "\n",
            "==================================================\n",
            "      DEPLOYMENT AND INFERENCE SIMULATION\n",
            "==================================================\n",
            "⚠️ No TPU or GPU detected. Training will run on the CPU.\n",
            "   For faster training, enable a GPU/TPU runtime in Colab.\n",
            "✓ Trained Keras model and scaler loaded successfully\n",
            "\u001b[1m1/1\u001b[0m \u001b[32m━━━━━━━━━━━━━━━━━━━━\u001b[0m\u001b[37m\u001b[0m \u001b[1m0s\u001b[0m 45ms/step\n",
            "\n",
            "Making predictions on 5 new samples:\n",
            "  Sample 1: Predicted='No Disease', Actual='No Disease'\n",
            "  Sample 2: Predicted='No Disease', Actual='No Disease'\n",
            "  Sample 3: Predicted='No Disease', Actual='No Disease'\n",
            "  Sample 4: Predicted='No Disease', Actual='Disease'\n",
            "  Sample 5: Predicted='No Disease', Actual='Disease'\n",
            "\n",
            "✓ Inference test complete.\n"
          ]
        }
      ]
    },
    {
      "cell_type": "markdown",
      "id": "f238ecbe",
      "metadata": {
        "id": "f238ecbe"
      },
      "source": [
        "## Conclusion\n",
        "\n",
        "This notebook has successfully demonstrated a complete, professional workflow for building, training, and preparing a deep learning model for deployment. By structuring the code within a robust class and leveraging the ONNX format, we have created a solution that is not only accurate but also portable, performant, and maintainable. The final artifacts—`models/heart_disease_model.onnx` and `models/scaler.pkl`—are ready to be integrated into any application or inference service."
      ]
    }
  ],
  "metadata": {
    "colab": {
      "provenance": [],
      "gpuType": "V5E1"
    },
    "kernelspec": {
      "display_name": "Python 3",
      "name": "python3"
    },
    "language_info": {
      "codemirror_mode": {
        "name": "ipython",
        "version": 3
      },
      "file_extension": ".py",
      "mimetype": "text/x-python",
      "name": "python",
      "nbconvert_exporter": "python",
      "pygments_lexer": "ipython3",
      "version": "3.12.11"
    },
    "widgets": {
      "application/vnd.jupyter.widget-state+json": {
        "961cf032d35f4ee2b191fd8410dcf845": {
          "model_module": "@jupyter-widgets/controls",
          "model_name": "HBoxModel",
          "model_module_version": "1.5.0",
          "state": {
            "_dom_classes": [],
            "_model_module": "@jupyter-widgets/controls",
            "_model_module_version": "1.5.0",
            "_model_name": "HBoxModel",
            "_view_count": null,
            "_view_module": "@jupyter-widgets/controls",
            "_view_module_version": "1.5.0",
            "_view_name": "HBoxView",
            "box_style": "",
            "children": [
              "IPY_MODEL_5360b811624f43e4a38c7b552eaebbb7",
              "IPY_MODEL_800bbfabf754476abddd37a6e3247db0",
              "IPY_MODEL_9a5e86c7b2b34d68aca4dfa0fc36a998"
            ],
            "layout": "IPY_MODEL_c0b3c814872c4fd7af89ec870bb0901e"
          }
        },
        "5360b811624f43e4a38c7b552eaebbb7": {
          "model_module": "@jupyter-widgets/controls",
          "model_name": "HTMLModel",
          "model_module_version": "1.5.0",
          "state": {
            "_dom_classes": [],
            "_model_module": "@jupyter-widgets/controls",
            "_model_module_version": "1.5.0",
            "_model_name": "HTMLModel",
            "_view_count": null,
            "_view_module": "@jupyter-widgets/controls",
            "_view_module_version": "1.5.0",
            "_view_name": "HTMLView",
            "description": "",
            "description_tooltip": null,
            "layout": "IPY_MODEL_60d1e9504ade43d08d4e783d30d4162f",
            "placeholder": "​",
            "style": "IPY_MODEL_b7b63aeff9b84b479ac4bd1307f69a55",
            "value": "Training:  98%"
          }
        },
        "800bbfabf754476abddd37a6e3247db0": {
          "model_module": "@jupyter-widgets/controls",
          "model_name": "FloatProgressModel",
          "model_module_version": "1.5.0",
          "state": {
            "_dom_classes": [],
            "_model_module": "@jupyter-widgets/controls",
            "_model_module_version": "1.5.0",
            "_model_name": "FloatProgressModel",
            "_view_count": null,
            "_view_module": "@jupyter-widgets/controls",
            "_view_module_version": "1.5.0",
            "_view_name": "ProgressView",
            "bar_style": "danger",
            "description": "",
            "description_tooltip": null,
            "layout": "IPY_MODEL_8a57567b75ff4793b72cd33ef0e40ccd",
            "max": 150,
            "min": 0,
            "orientation": "horizontal",
            "style": "IPY_MODEL_70ecc4f871424410b7a8afbc13282a96",
            "value": 147
          }
        },
        "9a5e86c7b2b34d68aca4dfa0fc36a998": {
          "model_module": "@jupyter-widgets/controls",
          "model_name": "HTMLModel",
          "model_module_version": "1.5.0",
          "state": {
            "_dom_classes": [],
            "_model_module": "@jupyter-widgets/controls",
            "_model_module_version": "1.5.0",
            "_model_name": "HTMLModel",
            "_view_count": null,
            "_view_module": "@jupyter-widgets/controls",
            "_view_module_version": "1.5.0",
            "_view_name": "HTMLView",
            "description": "",
            "description_tooltip": null,
            "layout": "IPY_MODEL_c6b6c519e18143eca251671c4c4d84b8",
            "placeholder": "​",
            "style": "IPY_MODEL_be6a5998b827488891e5e9a8c64b04a4",
            "value": " 147/150 [04:31&lt;00:05,  1.90s/epoch, accuracy=0.7374, auc=0.8020, loss=0.5418, val_accuracy=0.7396, val_auc=0.8050, val_loss=0.5377]"
          }
        },
        "c0b3c814872c4fd7af89ec870bb0901e": {
          "model_module": "@jupyter-widgets/base",
          "model_name": "LayoutModel",
          "model_module_version": "1.2.0",
          "state": {
            "_model_module": "@jupyter-widgets/base",
            "_model_module_version": "1.2.0",
            "_model_name": "LayoutModel",
            "_view_count": null,
            "_view_module": "@jupyter-widgets/base",
            "_view_module_version": "1.2.0",
            "_view_name": "LayoutView",
            "align_content": null,
            "align_items": null,
            "align_self": null,
            "border": null,
            "bottom": null,
            "display": null,
            "flex": null,
            "flex_flow": null,
            "grid_area": null,
            "grid_auto_columns": null,
            "grid_auto_flow": null,
            "grid_auto_rows": null,
            "grid_column": null,
            "grid_gap": null,
            "grid_row": null,
            "grid_template_areas": null,
            "grid_template_columns": null,
            "grid_template_rows": null,
            "height": null,
            "justify_content": null,
            "justify_items": null,
            "left": null,
            "margin": null,
            "max_height": null,
            "max_width": null,
            "min_height": null,
            "min_width": null,
            "object_fit": null,
            "object_position": null,
            "order": null,
            "overflow": null,
            "overflow_x": null,
            "overflow_y": null,
            "padding": null,
            "right": null,
            "top": null,
            "visibility": null,
            "width": null
          }
        },
        "60d1e9504ade43d08d4e783d30d4162f": {
          "model_module": "@jupyter-widgets/base",
          "model_name": "LayoutModel",
          "model_module_version": "1.2.0",
          "state": {
            "_model_module": "@jupyter-widgets/base",
            "_model_module_version": "1.2.0",
            "_model_name": "LayoutModel",
            "_view_count": null,
            "_view_module": "@jupyter-widgets/base",
            "_view_module_version": "1.2.0",
            "_view_name": "LayoutView",
            "align_content": null,
            "align_items": null,
            "align_self": null,
            "border": null,
            "bottom": null,
            "display": null,
            "flex": null,
            "flex_flow": null,
            "grid_area": null,
            "grid_auto_columns": null,
            "grid_auto_flow": null,
            "grid_auto_rows": null,
            "grid_column": null,
            "grid_gap": null,
            "grid_row": null,
            "grid_template_areas": null,
            "grid_template_columns": null,
            "grid_template_rows": null,
            "height": null,
            "justify_content": null,
            "justify_items": null,
            "left": null,
            "margin": null,
            "max_height": null,
            "max_width": null,
            "min_height": null,
            "min_width": null,
            "object_fit": null,
            "object_position": null,
            "order": null,
            "overflow": null,
            "overflow_x": null,
            "overflow_y": null,
            "padding": null,
            "right": null,
            "top": null,
            "visibility": null,
            "width": null
          }
        },
        "b7b63aeff9b84b479ac4bd1307f69a55": {
          "model_module": "@jupyter-widgets/controls",
          "model_name": "DescriptionStyleModel",
          "model_module_version": "1.5.0",
          "state": {
            "_model_module": "@jupyter-widgets/controls",
            "_model_module_version": "1.5.0",
            "_model_name": "DescriptionStyleModel",
            "_view_count": null,
            "_view_module": "@jupyter-widgets/base",
            "_view_module_version": "1.2.0",
            "_view_name": "StyleView",
            "description_width": ""
          }
        },
        "8a57567b75ff4793b72cd33ef0e40ccd": {
          "model_module": "@jupyter-widgets/base",
          "model_name": "LayoutModel",
          "model_module_version": "1.2.0",
          "state": {
            "_model_module": "@jupyter-widgets/base",
            "_model_module_version": "1.2.0",
            "_model_name": "LayoutModel",
            "_view_count": null,
            "_view_module": "@jupyter-widgets/base",
            "_view_module_version": "1.2.0",
            "_view_name": "LayoutView",
            "align_content": null,
            "align_items": null,
            "align_self": null,
            "border": null,
            "bottom": null,
            "display": null,
            "flex": null,
            "flex_flow": null,
            "grid_area": null,
            "grid_auto_columns": null,
            "grid_auto_flow": null,
            "grid_auto_rows": null,
            "grid_column": null,
            "grid_gap": null,
            "grid_row": null,
            "grid_template_areas": null,
            "grid_template_columns": null,
            "grid_template_rows": null,
            "height": null,
            "justify_content": null,
            "justify_items": null,
            "left": null,
            "margin": null,
            "max_height": null,
            "max_width": null,
            "min_height": null,
            "min_width": null,
            "object_fit": null,
            "object_position": null,
            "order": null,
            "overflow": null,
            "overflow_x": null,
            "overflow_y": null,
            "padding": null,
            "right": null,
            "top": null,
            "visibility": null,
            "width": null
          }
        },
        "70ecc4f871424410b7a8afbc13282a96": {
          "model_module": "@jupyter-widgets/controls",
          "model_name": "ProgressStyleModel",
          "model_module_version": "1.5.0",
          "state": {
            "_model_module": "@jupyter-widgets/controls",
            "_model_module_version": "1.5.0",
            "_model_name": "ProgressStyleModel",
            "_view_count": null,
            "_view_module": "@jupyter-widgets/base",
            "_view_module_version": "1.2.0",
            "_view_name": "StyleView",
            "bar_color": null,
            "description_width": ""
          }
        },
        "c6b6c519e18143eca251671c4c4d84b8": {
          "model_module": "@jupyter-widgets/base",
          "model_name": "LayoutModel",
          "model_module_version": "1.2.0",
          "state": {
            "_model_module": "@jupyter-widgets/base",
            "_model_module_version": "1.2.0",
            "_model_name": "LayoutModel",
            "_view_count": null,
            "_view_module": "@jupyter-widgets/base",
            "_view_module_version": "1.2.0",
            "_view_name": "LayoutView",
            "align_content": null,
            "align_items": null,
            "align_self": null,
            "border": null,
            "bottom": null,
            "display": null,
            "flex": null,
            "flex_flow": null,
            "grid_area": null,
            "grid_auto_columns": null,
            "grid_auto_flow": null,
            "grid_auto_rows": null,
            "grid_column": null,
            "grid_gap": null,
            "grid_row": null,
            "grid_template_areas": null,
            "grid_template_columns": null,
            "grid_template_rows": null,
            "height": null,
            "justify_content": null,
            "justify_items": null,
            "left": null,
            "margin": null,
            "max_height": null,
            "max_width": null,
            "min_height": null,
            "min_width": null,
            "object_fit": null,
            "object_position": null,
            "order": null,
            "overflow": null,
            "overflow_x": null,
            "overflow_y": null,
            "padding": null,
            "right": null,
            "top": null,
            "visibility": null,
            "width": null
          }
        },
        "be6a5998b827488891e5e9a8c64b04a4": {
          "model_module": "@jupyter-widgets/controls",
          "model_name": "DescriptionStyleModel",
          "model_module_version": "1.5.0",
          "state": {
            "_model_module": "@jupyter-widgets/controls",
            "_model_module_version": "1.5.0",
            "_model_name": "DescriptionStyleModel",
            "_view_count": null,
            "_view_module": "@jupyter-widgets/base",
            "_view_module_version": "1.2.0",
            "_view_name": "StyleView",
            "description_width": ""
          }
        }
      }
    },
    "accelerator": "TPU"
  },
  "nbformat": 4,
  "nbformat_minor": 5
}